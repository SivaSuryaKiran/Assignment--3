{
 "cells": [
  {
   "cell_type": "markdown",
   "id": "65a5dfb2",
   "metadata": {},
   "source": [
    "1.A)\n",
    "\n",
    "Functions reduce the code that we have to write . Rewriting of the same code can be stopped.\n",
    "We can call the function whenever we need the same code."
   ]
  },
  {
   "cell_type": "markdown",
   "id": "5ca7f016",
   "metadata": {},
   "source": [
    "2.A)\n",
    "\n",
    "Function runs when call the function."
   ]
  },
  {
   "cell_type": "markdown",
   "id": "69ae1785",
   "metadata": {},
   "source": [
    "3.A)\n",
    "\n",
    "'def'  keyword creates the function"
   ]
  },
  {
   "cell_type": "markdown",
   "id": "b62e5472",
   "metadata": {},
   "source": [
    "4.A)\n",
    "\n",
    "Function is the piece of code . It can be called when we need it.\n",
    "Function call is used while running or executing the function. And it return the value. \n"
   ]
  },
  {
   "cell_type": "markdown",
   "id": "bc3ed417",
   "metadata": {},
   "source": [
    "5.A)\n",
    "\n",
    "only one global scope in a program.\n",
    "we can create any number of local scopes in a function."
   ]
  },
  {
   "cell_type": "markdown",
   "id": "b4492fda",
   "metadata": {},
   "source": [
    "6.A)\n",
    "\n",
    " A local variable becomes undefined after the function call returns."
   ]
  },
  {
   "cell_type": "markdown",
   "id": "a2d9e533",
   "metadata": {},
   "source": [
    "7.A)\n",
    "\n",
    "Function returns a value when it calls . After the execution of the code it returns a value.\n",
    "Yes . there is a return value in an expression . It can be any object like strings, integer,float.. "
   ]
  },
  {
   "cell_type": "markdown",
   "id": "32697774",
   "metadata": {},
   "source": [
    "8.A)\n",
    "\n",
    "It returns a 'None'.\n"
   ]
  },
  {
   "cell_type": "markdown",
   "id": "c2c63ff8",
   "metadata": {},
   "source": [
    "9.A)\n",
    "\n",
    "We can make a local variable as a global variable by using 'global' keyword."
   ]
  },
  {
   "cell_type": "markdown",
   "id": "7b0de48d",
   "metadata": {},
   "source": [
    "10.A)\n",
    "\n",
    "Data Type of 'none' is 'NoneType'."
   ]
  },
  {
   "cell_type": "markdown",
   "id": "6fa2058e",
   "metadata": {},
   "source": [
    "11.A)\n",
    "\n",
    "It import a module called 'areallyourpetsnamederic'."
   ]
  },
  {
   "cell_type": "markdown",
   "id": "13e2590d",
   "metadata": {},
   "source": [
    "12.A)\n",
    "\n",
    "After importing spam module ,we can call it by writing spam.bacon()."
   ]
  },
  {
   "cell_type": "markdown",
   "id": "0908ec79",
   "metadata": {},
   "source": [
    "13.A)\n",
    "\n",
    "we have to rectify the errors that shown by compiler. "
   ]
  },
  {
   "cell_type": "markdown",
   "id": "585a61ca",
   "metadata": {},
   "source": [
    "14.A)\n",
    "\n",
    "try clause tests the statement in it or part of the code.\n",
    "except clause handles the errors."
   ]
  }
 ],
 "metadata": {
  "kernelspec": {
   "display_name": "Python 3 (ipykernel)",
   "language": "python",
   "name": "python3"
  },
  "language_info": {
   "codemirror_mode": {
    "name": "ipython",
    "version": 3
   },
   "file_extension": ".py",
   "mimetype": "text/x-python",
   "name": "python",
   "nbconvert_exporter": "python",
   "pygments_lexer": "ipython3",
   "version": "3.9.7"
  }
 },
 "nbformat": 4,
 "nbformat_minor": 5
}
